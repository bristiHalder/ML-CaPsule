{
 "cells": [
  {
   "cell_type": "markdown",
   "metadata": {
    "id": "y2VgPk2mTThF"
   },
   "source": [
    "# **Network Traffic Anomaly Detection using BiLSTM**\n"
   ]
  },
  {
   "cell_type": "markdown",
   "metadata": {
    "id": "-BnB2tiSZh4R"
   },
   "source": [
    "URL for Downloading Dataset.\n"
   ]
  },
  {
   "cell_type": "code",
   "execution_count": 1,
   "metadata": {
    "id": "ORfD1EUiZuLK",
    "tags": []
   },
   "outputs": [
    {
     "name": "stdout",
     "output_type": "stream",
     "text": [
      "--2024-03-10 13:29:02--  https://cf-courses-data.s3.us.cloud-object-storage.appdomain.cloud/Advanced_ML_anomaly_detection_L3/DataSets.zip\n",
      "Resolving cf-courses-data.s3.us.cloud-object-storage.appdomain.cloud (cf-courses-data.s3.us.cloud-object-storage.appdomain.cloud)... 169.63.118.104, 169.63.118.104\n",
      "Connecting to cf-courses-data.s3.us.cloud-object-storage.appdomain.cloud (cf-courses-data.s3.us.cloud-object-storage.appdomain.cloud)|169.63.118.104|:443... connected.\n",
      "HTTP request sent, awaiting response... 200 OK\n",
      "Length: 402533304 (384M) [application/zip]\n",
      "Saving to: ‘DataSets.zip.1’\n",
      "\n",
      "DataSets.zip.1      100%[===================>] 383.88M  33.7MB/s    in 12s     \n",
      "\n",
      "2024-03-10 13:29:15 (32.7 MB/s) - ‘DataSets.zip.1’ saved [402533304/402533304]\n",
      "\n"
     ]
    }
   ],
   "source": [
    "!wget https://cf-courses-data.s3.us.cloud-object-storage.appdomain.cloud/Advanced_ML_anomaly_detection_L3/DataSets.zip"
   ]
  },
  {
   "cell_type": "markdown",
   "metadata": {
    "id": "eGH5DhdLHmOp"
   },
   "source": [
    "Import the necessary libraries to use in this lab. We can add some aliases (such as pd, plt, np, tf) to make the libraries easier to use in our code and set a default figure size for further plots. Ignore the warnings.\n"
   ]
  },
  {
   "cell_type": "code",
   "execution_count": 2,
   "metadata": {
    "id": "ILNW-o17MX9Y",
    "tags": []
   },
   "outputs": [
    {
     "name": "stdout",
     "output_type": "stream",
     "text": [
      "Collecting gensim\n",
      "  Downloading gensim-4.2.0-cp37-cp37m-manylinux_2_12_x86_64.manylinux2010_x86_64.whl (24.1 MB)\n",
      "\u001b[2K     \u001b[90m━━━━━━━━━━━━━━━━━━━━━━━━━━━━━━━━━━━━━━━━\u001b[0m \u001b[32m24.1/24.1 MB\u001b[0m \u001b[31m57.5 MB/s\u001b[0m eta \u001b[36m0:00:00\u001b[0m00:01\u001b[0m00:01\u001b[0m\n",
      "\u001b[?25hRequirement already satisfied: numpy>=1.17.0 in /home/jupyterlab/conda/envs/python/lib/python3.7/site-packages (from gensim) (1.21.6)\n",
      "Requirement already satisfied: scipy>=0.18.1 in /home/jupyterlab/conda/envs/python/lib/python3.7/site-packages (from gensim) (1.7.3)\n",
      "Collecting smart-open>=1.8.1 (from gensim)\n",
      "  Downloading smart_open-7.0.1-py3-none-any.whl (60 kB)\n",
      "\u001b[2K     \u001b[90m━━━━━━━━━━━━━━━━━━━━━━━━━━━━━━━━━━━━━━━━\u001b[0m \u001b[32m60.8/60.8 kB\u001b[0m \u001b[31m11.3 MB/s\u001b[0m eta \u001b[36m0:00:00\u001b[0m\n",
      "\u001b[?25hRequirement already satisfied: wrapt in /home/jupyterlab/conda/envs/python/lib/python3.7/site-packages (from smart-open>=1.8.1->gensim) (1.14.1)\n",
      "Installing collected packages: smart-open, gensim\n",
      "Successfully installed gensim-4.2.0 smart-open-7.0.1\n",
      "Collecting python-Levenshtein\n",
      "  Downloading python_Levenshtein-0.23.0-py3-none-any.whl (9.4 kB)\n",
      "Collecting Levenshtein==0.23.0 (from python-Levenshtein)\n",
      "  Downloading Levenshtein-0.23.0-cp37-cp37m-manylinux_2_17_x86_64.manylinux2014_x86_64.whl (170 kB)\n",
      "\u001b[2K     \u001b[90m━━━━━━━━━━━━━━━━━━━━━━━━━━━━━━━━━━━━━━\u001b[0m \u001b[32m170.8/170.8 kB\u001b[0m \u001b[31m30.8 MB/s\u001b[0m eta \u001b[36m0:00:00\u001b[0m\n",
      "\u001b[?25hCollecting rapidfuzz<4.0.0,>=3.1.0 (from Levenshtein==0.23.0->python-Levenshtein)\n",
      "  Downloading rapidfuzz-3.4.0-cp37-cp37m-manylinux_2_17_x86_64.manylinux2014_x86_64.whl (3.2 MB)\n",
      "\u001b[2K     \u001b[90m━━━━━━━━━━━━━━━━━━━━━━━━━━━━━━━━━━━━━━━━\u001b[0m \u001b[32m3.2/3.2 MB\u001b[0m \u001b[31m86.4 MB/s\u001b[0m eta \u001b[36m0:00:00\u001b[0m:00:01\u001b[0m\n",
      "\u001b[?25hInstalling collected packages: rapidfuzz, Levenshtein, python-Levenshtein\n",
      "Successfully installed Levenshtein-0.23.0 python-Levenshtein-0.23.0 rapidfuzz-3.4.0\n",
      "Collecting tensorflow==2.4\n",
      "  Downloading tensorflow-2.4.0-cp37-cp37m-manylinux2010_x86_64.whl (394.7 MB)\n",
      "\u001b[2K     \u001b[90m━━━━━━━━━━━━━━━━━━━━━━━━━━━━━━━━━━━━━━━\u001b[0m \u001b[32m394.7/394.7 MB\u001b[0m \u001b[31m1.3 MB/s\u001b[0m eta \u001b[36m0:00:00\u001b[0m00:01\u001b[0m00:01\u001b[0m\n",
      "\u001b[?25hCollecting absl-py~=0.10 (from tensorflow==2.4)\n",
      "  Downloading absl_py-0.15.0-py3-none-any.whl (132 kB)\n",
      "\u001b[2K     \u001b[90m━━━━━━━━━━━━━━━━━━━━━━━━━━━━━━━━━━━━━━\u001b[0m \u001b[32m132.0/132.0 kB\u001b[0m \u001b[31m19.2 MB/s\u001b[0m eta \u001b[36m0:00:00\u001b[0m\n",
      "\u001b[?25hCollecting astunparse~=1.6.3 (from tensorflow==2.4)\n",
      "  Downloading astunparse-1.6.3-py2.py3-none-any.whl (12 kB)\n",
      "Collecting flatbuffers~=1.12.0 (from tensorflow==2.4)\n",
      "  Downloading flatbuffers-1.12-py2.py3-none-any.whl (15 kB)\n",
      "Requirement already satisfied: google-pasta~=0.2 in /home/jupyterlab/conda/envs/python/lib/python3.7/site-packages (from tensorflow==2.4) (0.2.0)\n",
      "Collecting h5py~=2.10.0 (from tensorflow==2.4)\n",
      "  Downloading h5py-2.10.0-cp37-cp37m-manylinux1_x86_64.whl (2.9 MB)\n",
      "\u001b[2K     \u001b[90m━━━━━━━━━━━━━━━━━━━━━━━━━━━━━━━━━━━━━━━━\u001b[0m \u001b[32m2.9/2.9 MB\u001b[0m \u001b[31m91.7 MB/s\u001b[0m eta \u001b[36m0:00:00\u001b[0m\n",
      "\u001b[?25hRequirement already satisfied: keras-preprocessing~=1.1.2 in /home/jupyterlab/conda/envs/python/lib/python3.7/site-packages (from tensorflow==2.4) (1.1.2)\n",
      "Collecting numpy~=1.19.2 (from tensorflow==2.4)\n",
      "  Downloading numpy-1.19.5-cp37-cp37m-manylinux2010_x86_64.whl (14.8 MB)\n",
      "\u001b[2K     \u001b[90m━━━━━━━━━━━━━━━━━━━━━━━━━━━━━━━━━━━━━━━━\u001b[0m \u001b[32m14.8/14.8 MB\u001b[0m \u001b[31m80.2 MB/s\u001b[0m eta \u001b[36m0:00:00\u001b[0m00:01\u001b[0m00:01\u001b[0m\n",
      "\u001b[?25hCollecting opt-einsum~=3.3.0 (from tensorflow==2.4)\n",
      "  Downloading opt_einsum-3.3.0-py3-none-any.whl (65 kB)\n",
      "\u001b[2K     \u001b[90m━━━━━━━━━━━━━━━━━━━━━━━━━━━━━━━━━━━━━━━━\u001b[0m \u001b[32m65.5/65.5 kB\u001b[0m \u001b[31m12.6 MB/s\u001b[0m eta \u001b[36m0:00:00\u001b[0m\n",
      "\u001b[?25hRequirement already satisfied: protobuf>=3.9.2 in /home/jupyterlab/conda/envs/python/lib/python3.7/site-packages (from tensorflow==2.4) (4.21.8)\n",
      "Collecting six~=1.15.0 (from tensorflow==2.4)\n",
      "  Downloading six-1.15.0-py2.py3-none-any.whl (10 kB)\n",
      "Collecting termcolor~=1.1.0 (from tensorflow==2.4)\n",
      "  Downloading termcolor-1.1.0.tar.gz (3.9 kB)\n",
      "  Preparing metadata (setup.py) ... \u001b[?25ldone\n",
      "\u001b[?25hCollecting typing-extensions~=3.7.4 (from tensorflow==2.4)\n",
      "  Downloading typing_extensions-3.7.4.3-py3-none-any.whl (22 kB)\n",
      "Requirement already satisfied: wheel~=0.35 in /home/jupyterlab/conda/envs/python/lib/python3.7/site-packages (from tensorflow==2.4) (0.40.0)\n",
      "Collecting wrapt~=1.12.1 (from tensorflow==2.4)\n",
      "  Downloading wrapt-1.12.1.tar.gz (27 kB)\n",
      "  Preparing metadata (setup.py) ... \u001b[?25ldone\n",
      "\u001b[?25hCollecting gast==0.3.3 (from tensorflow==2.4)\n",
      "  Downloading gast-0.3.3-py2.py3-none-any.whl (9.7 kB)\n",
      "Collecting tensorboard~=2.4 (from tensorflow==2.4)\n",
      "  Downloading tensorboard-2.11.2-py3-none-any.whl (6.0 MB)\n",
      "\u001b[2K     \u001b[90m━━━━━━━━━━━━━━━━━━━━━━━━━━━━━━━━━━━━━━━━\u001b[0m \u001b[32m6.0/6.0 MB\u001b[0m \u001b[31m100.5 MB/s\u001b[0m eta \u001b[36m0:00:00\u001b[0m00:01\u001b[0m\n",
      "\u001b[?25hCollecting tensorflow-estimator<2.5.0,>=2.4.0rc0 (from tensorflow==2.4)\n",
      "  Downloading tensorflow_estimator-2.4.0-py2.py3-none-any.whl (462 kB)\n",
      "\u001b[2K     \u001b[90m━━━━━━━━━━━━━━━━━━━━━━━━━━━━━━━━━━━━━━\u001b[0m \u001b[32m462.0/462.0 kB\u001b[0m \u001b[31m57.0 MB/s\u001b[0m eta \u001b[36m0:00:00\u001b[0m\n",
      "\u001b[?25hCollecting grpcio~=1.32.0 (from tensorflow==2.4)\n",
      "  Downloading grpcio-1.32.0-cp37-cp37m-manylinux2014_x86_64.whl (3.8 MB)\n",
      "\u001b[2K     \u001b[90m━━━━━━━━━━━━━━━━━━━━━━━━━━━━━━━━━━━━━━━━\u001b[0m \u001b[32m3.8/3.8 MB\u001b[0m \u001b[31m86.1 MB/s\u001b[0m eta \u001b[36m0:00:00\u001b[0m:00:01\u001b[0m\n",
      "\u001b[?25hCollecting google-auth<3,>=1.6.3 (from tensorboard~=2.4->tensorflow==2.4)\n",
      "  Downloading google_auth-2.28.2-py2.py3-none-any.whl (186 kB)\n",
      "\u001b[2K     \u001b[90m━━━━━━━━━━━━━━━━━━━━━━━━━━━━━━━━━━━━━━\u001b[0m \u001b[32m186.9/186.9 kB\u001b[0m \u001b[31m31.2 MB/s\u001b[0m eta \u001b[36m0:00:00\u001b[0m\n",
      "\u001b[?25hCollecting google-auth-oauthlib<0.5,>=0.4.1 (from tensorboard~=2.4->tensorflow==2.4)\n",
      "  Downloading google_auth_oauthlib-0.4.6-py2.py3-none-any.whl (18 kB)\n",
      "Requirement already satisfied: markdown>=2.6.8 in /home/jupyterlab/conda/envs/python/lib/python3.7/site-packages (from tensorboard~=2.4->tensorflow==2.4) (3.4.3)\n",
      "Collecting protobuf>=3.9.2 (from tensorflow==2.4)\n",
      "  Downloading protobuf-3.20.3-cp37-cp37m-manylinux_2_5_x86_64.manylinux1_x86_64.whl (1.0 MB)\n",
      "\u001b[2K     \u001b[90m━━━━━━━━━━━━━━━━━━━━━━━━━━━━━━━━━━━━━━━━\u001b[0m \u001b[32m1.0/1.0 MB\u001b[0m \u001b[31m67.4 MB/s\u001b[0m eta \u001b[36m0:00:00\u001b[0m\n",
      "\u001b[?25hRequirement already satisfied: requests<3,>=2.21.0 in /home/jupyterlab/conda/envs/python/lib/python3.7/site-packages (from tensorboard~=2.4->tensorflow==2.4) (2.29.0)\n",
      "Requirement already satisfied: setuptools>=41.0.0 in /home/jupyterlab/conda/envs/python/lib/python3.7/site-packages (from tensorboard~=2.4->tensorflow==2.4) (67.7.2)\n",
      "Collecting tensorboard-data-server<0.7.0,>=0.6.0 (from tensorboard~=2.4->tensorflow==2.4)\n",
      "  Downloading tensorboard_data_server-0.6.1-py3-none-manylinux2010_x86_64.whl (4.9 MB)\n",
      "\u001b[2K     \u001b[90m━━━━━━━━━━━━━━━━━━━━━━━━━━━━━━━━━━━━━━━━\u001b[0m \u001b[32m4.9/4.9 MB\u001b[0m \u001b[31m96.5 MB/s\u001b[0m eta \u001b[36m0:00:00\u001b[0m:00:01\u001b[0m\n",
      "\u001b[?25hCollecting tensorboard-plugin-wit>=1.6.0 (from tensorboard~=2.4->tensorflow==2.4)\n",
      "  Downloading tensorboard_plugin_wit-1.8.1-py3-none-any.whl (781 kB)\n",
      "\u001b[2K     \u001b[90m━━━━━━━━━━━━━━━━━━━━━━━━━━━━━━━━━━━━━━\u001b[0m \u001b[32m781.3/781.3 kB\u001b[0m \u001b[31m70.2 MB/s\u001b[0m eta \u001b[36m0:00:00\u001b[0m\n",
      "\u001b[?25hRequirement already satisfied: werkzeug>=1.0.1 in /home/jupyterlab/conda/envs/python/lib/python3.7/site-packages (from tensorboard~=2.4->tensorflow==2.4) (2.2.3)\n",
      "Collecting cachetools<6.0,>=2.0.0 (from google-auth<3,>=1.6.3->tensorboard~=2.4->tensorflow==2.4)\n",
      "  Downloading cachetools-5.3.3-py3-none-any.whl (9.3 kB)\n",
      "Requirement already satisfied: pyasn1-modules>=0.2.1 in /home/jupyterlab/conda/envs/python/lib/python3.7/site-packages (from google-auth<3,>=1.6.3->tensorboard~=2.4->tensorflow==2.4) (0.3.0)\n",
      "Collecting rsa<5,>=3.1.4 (from google-auth<3,>=1.6.3->tensorboard~=2.4->tensorflow==2.4)\n",
      "  Downloading rsa-4.9-py3-none-any.whl (34 kB)\n",
      "Collecting requests-oauthlib>=0.7.0 (from google-auth-oauthlib<0.5,>=0.4.1->tensorboard~=2.4->tensorflow==2.4)\n",
      "  Downloading requests_oauthlib-1.3.1-py2.py3-none-any.whl (23 kB)\n",
      "Requirement already satisfied: importlib-metadata>=4.4 in /home/jupyterlab/conda/envs/python/lib/python3.7/site-packages (from markdown>=2.6.8->tensorboard~=2.4->tensorflow==2.4) (4.11.4)\n",
      "Requirement already satisfied: charset-normalizer<4,>=2 in /home/jupyterlab/conda/envs/python/lib/python3.7/site-packages (from requests<3,>=2.21.0->tensorboard~=2.4->tensorflow==2.4) (3.1.0)\n",
      "Requirement already satisfied: idna<4,>=2.5 in /home/jupyterlab/conda/envs/python/lib/python3.7/site-packages (from requests<3,>=2.21.0->tensorboard~=2.4->tensorflow==2.4) (3.4)\n",
      "Requirement already satisfied: urllib3<1.27,>=1.21.1 in /home/jupyterlab/conda/envs/python/lib/python3.7/site-packages (from requests<3,>=2.21.0->tensorboard~=2.4->tensorflow==2.4) (1.26.15)\n",
      "Requirement already satisfied: certifi>=2017.4.17 in /home/jupyterlab/conda/envs/python/lib/python3.7/site-packages (from requests<3,>=2.21.0->tensorboard~=2.4->tensorflow==2.4) (2023.5.7)\n",
      "Requirement already satisfied: MarkupSafe>=2.1.1 in /home/jupyterlab/conda/envs/python/lib/python3.7/site-packages (from werkzeug>=1.0.1->tensorboard~=2.4->tensorflow==2.4) (2.1.1)\n",
      "Requirement already satisfied: zipp>=0.5 in /home/jupyterlab/conda/envs/python/lib/python3.7/site-packages (from importlib-metadata>=4.4->markdown>=2.6.8->tensorboard~=2.4->tensorflow==2.4) (3.15.0)\n",
      "Requirement already satisfied: pyasn1<0.6.0,>=0.4.6 in /home/jupyterlab/conda/envs/python/lib/python3.7/site-packages (from pyasn1-modules>=0.2.1->google-auth<3,>=1.6.3->tensorboard~=2.4->tensorflow==2.4) (0.5.0)\n",
      "Collecting oauthlib>=3.0.0 (from requests-oauthlib>=0.7.0->google-auth-oauthlib<0.5,>=0.4.1->tensorboard~=2.4->tensorflow==2.4)\n",
      "  Downloading oauthlib-3.2.2-py3-none-any.whl (151 kB)\n",
      "\u001b[2K     \u001b[90m━━━━━━━━━━━━━━━━━━━━━━━━━━━━━━━━━━━━━━\u001b[0m \u001b[32m151.7/151.7 kB\u001b[0m \u001b[31m27.8 MB/s\u001b[0m eta \u001b[36m0:00:00\u001b[0m\n",
      "\u001b[?25hBuilding wheels for collected packages: termcolor, wrapt\n",
      "  Building wheel for termcolor (setup.py) ... \u001b[?25ldone\n",
      "\u001b[?25h  Created wheel for termcolor: filename=termcolor-1.1.0-py3-none-any.whl size=4832 sha256=e2db5f8dfbb0bbbbd93a3320174d917a97bcfc771fa8d54dd580c2adf8d2438a\n",
      "  Stored in directory: /home/jupyterlab/.cache/pip/wheels/3f/e3/ec/8a8336ff196023622fbcb36de0c5a5c218cbb24111d1d4c7f2\n",
      "  Building wheel for wrapt (setup.py) ... \u001b[?25ldone\n",
      "\u001b[?25h  Created wheel for wrapt: filename=wrapt-1.12.1-cp37-cp37m-linux_x86_64.whl size=36029 sha256=0ec21528cd4c24ca64f54fce713e62f4dc832d621e7bfe10a0f5a8e9ca5d941c\n",
      "  Stored in directory: /home/jupyterlab/.cache/pip/wheels/62/76/4c/aa25851149f3f6d9785f6c869387ad82b3fd37582fa8147ac6\n",
      "Successfully built termcolor wrapt\n",
      "Installing collected packages: wrapt, typing-extensions, termcolor, tensorflow-estimator, tensorboard-plugin-wit, flatbuffers, tensorboard-data-server, six, rsa, protobuf, oauthlib, numpy, gast, cachetools, requests-oauthlib, opt-einsum, h5py, grpcio, google-auth, astunparse, absl-py, google-auth-oauthlib, tensorboard, tensorflow\n",
      "  Attempting uninstall: wrapt\n",
      "    Found existing installation: wrapt 1.14.1\n",
      "    Uninstalling wrapt-1.14.1:\n",
      "      Successfully uninstalled wrapt-1.14.1\n",
      "  Attempting uninstall: typing-extensions\n",
      "    Found existing installation: typing_extensions 4.5.0\n",
      "    Uninstalling typing_extensions-4.5.0:\n",
      "      Successfully uninstalled typing_extensions-4.5.0\n",
      "  Attempting uninstall: termcolor\n",
      "    Found existing installation: termcolor 2.3.0\n",
      "    Uninstalling termcolor-2.3.0:\n",
      "      Successfully uninstalled termcolor-2.3.0\n",
      "  Attempting uninstall: tensorflow-estimator\n",
      "    Found existing installation: tensorflow-estimator 1.14.0\n",
      "    Uninstalling tensorflow-estimator-1.14.0:\n",
      "      Successfully uninstalled tensorflow-estimator-1.14.0\n",
      "  Attempting uninstall: six\n",
      "    Found existing installation: six 1.16.0\n",
      "    Uninstalling six-1.16.0:\n",
      "      Successfully uninstalled six-1.16.0\n",
      "  Attempting uninstall: protobuf\n",
      "    Found existing installation: protobuf 4.21.8\n",
      "    Uninstalling protobuf-4.21.8:\n",
      "      Successfully uninstalled protobuf-4.21.8\n",
      "  Attempting uninstall: numpy\n",
      "    Found existing installation: numpy 1.21.6\n",
      "    Uninstalling numpy-1.21.6:\n",
      "      Successfully uninstalled numpy-1.21.6\n",
      "  Attempting uninstall: gast\n",
      "    Found existing installation: gast 0.5.3\n",
      "    Uninstalling gast-0.5.3:\n",
      "      Successfully uninstalled gast-0.5.3\n",
      "  Attempting uninstall: h5py\n",
      "    Found existing installation: h5py 2.8.0\n",
      "    Uninstalling h5py-2.8.0:\n",
      "      Successfully uninstalled h5py-2.8.0\n",
      "  Attempting uninstall: grpcio\n",
      "    Found existing installation: grpcio 1.48.1\n",
      "    Uninstalling grpcio-1.48.1:\n",
      "      Successfully uninstalled grpcio-1.48.1\n",
      "  Attempting uninstall: absl-py\n",
      "    Found existing installation: absl-py 1.4.0\n",
      "    Uninstalling absl-py-1.4.0:\n",
      "      Successfully uninstalled absl-py-1.4.0\n",
      "  Attempting uninstall: tensorboard\n",
      "    Found existing installation: tensorboard 1.14.0\n",
      "    Uninstalling tensorboard-1.14.0:\n",
      "      Successfully uninstalled tensorboard-1.14.0\n",
      "  Attempting uninstall: tensorflow\n",
      "    Found existing installation: tensorflow 1.14.0\n",
      "    Uninstalling tensorflow-1.14.0:\n",
      "      Successfully uninstalled tensorflow-1.14.0\n",
      "\u001b[31mERROR: pip's dependency resolver does not currently take into account all the packages that are installed. This behaviour is the source of the following dependency conflicts.\n",
      "rich 13.3.5 requires typing-extensions<5.0,>=4.0.0; python_version < \"3.9\", but you have typing-extensions 3.7.4.3 which is incompatible.\u001b[0m\u001b[31m\n",
      "\u001b[0mSuccessfully installed absl-py-0.15.0 astunparse-1.6.3 cachetools-5.3.3 flatbuffers-1.12 gast-0.3.3 google-auth-2.28.2 google-auth-oauthlib-0.4.6 grpcio-1.32.0 h5py-2.10.0 numpy-1.19.5 oauthlib-3.2.2 opt-einsum-3.3.0 protobuf-3.20.3 requests-oauthlib-1.3.1 rsa-4.9 six-1.15.0 tensorboard-2.11.2 tensorboard-data-server-0.6.1 tensorboard-plugin-wit-1.8.1 tensorflow-2.4.0 tensorflow-estimator-2.4.0 termcolor-1.1.0 typing-extensions-3.7.4.3 wrapt-1.12.1\n"
     ]
    }
   ],
   "source": [
    "!pip install gensim\n",
    "!pip install python-Levenshtein\n",
    "!pip install tensorflow==2.4"
   ]
  },
  {
   "cell_type": "code",
   "execution_count": 3,
   "metadata": {
    "id": "jdVcijxmTTha",
    "tags": []
   },
   "outputs": [
    {
     "name": "stderr",
     "output_type": "stream",
     "text": [
      "2024-03-10 13:30:27.783677: W tensorflow/stream_executor/platform/default/dso_loader.cc:60] Could not load dynamic library 'libcudart.so.11.0'; dlerror: libcudart.so.11.0: cannot open shared object file: No such file or directory\n",
      "2024-03-10 13:30:27.783734: I tensorflow/stream_executor/cuda/cudart_stub.cc:29] Ignore above cudart dlerror if you do not have a GPU set up on your machine.\n",
      "Matplotlib is building the font cache; this may take a moment.\n",
      "/home/jupyterlab/conda/envs/python/lib/python3.7/site-packages/sklearn/utils/validation.py:37: DeprecationWarning: distutils Version classes are deprecated. Use packaging.version instead.\n",
      "  LARGE_SPARSE_SUPPORTED = LooseVersion(scipy_version) >= '0.14.0'\n",
      "Using TensorFlow backend.\n"
     ]
    }
   ],
   "source": [
    "import numpy as np\n",
    "import pandas as pd\n",
    "import tensorflow as tf\n",
    "import matplotlib.pyplot as plt\n",
    "import xml.etree.ElementTree as ElTree\n",
    "import re, h5py, itertools, math, glob, zipfile, os\n",
    "from sklearn.preprocessing import LabelEncoder, OneHotEncoder\n",
    "from sklearn.metrics import log_loss, auc, roc_curve\n",
    "from tensorflow.keras import layers\n",
    "from keras.layers.core import Masking\n",
    "from tensorflow.keras.layers import Dense, LSTM, Dropout, Embedding, TimeDistributed\n",
    "from keras.layers.wrappers import Bidirectional\n",
    "from tensorflow.keras.models import Model, Sequential, load_model\n",
    "from keras.utils import np_utils\n",
    "from tensorflow.python.client import device_lib\n",
    "from lxml import etree\n",
    "from gensim.models import Word2Vec\n",
    "\n",
    "# %matplotlib inline\n",
    "plt.rcParams['figure.figsize'] = (15, 5)\n",
    "plt.style.use('ggplot')\n",
    "seed = 42\n",
    "\n",
    "import warnings\n",
    "warnings.filterwarnings(action = \"ignore\")"
   ]
  },
  {
   "cell_type": "markdown",
   "metadata": {
    "id": "Odfp7MOVWLKQ"
   },
   "source": [
    "## Some additional & preparative actions\n"
   ]
  },
  {
   "cell_type": "markdown",
   "metadata": {
    "id": "evtbog-C13Z2"
   },
   "source": [
    "Specify the value of the `precision` parameter equal to 3 to display three decimal signs (instead of 6 as default).\n"
   ]
  },
  {
   "cell_type": "code",
   "execution_count": 4,
   "metadata": {
    "id": "nwMoaJLV13Z3",
    "tags": []
   },
   "outputs": [],
   "source": [
    "pd.set_option(\"precision\", 3)\n",
    "pd.options.display.float_format = '{:.3f}'.format"
   ]
  },
  {
   "cell_type": "code",
   "execution_count": 5,
   "metadata": {
    "id": "xlvlUEQ2PaKz",
    "tags": []
   },
   "outputs": [],
   "source": [
    "def plot_history(history):\n",
    "    loss_list = [s for s in history.history.keys() if 'loss' in s and 'val' not in s]\n",
    "    val_loss_list = [s for s in history.history.keys() if 'loss' in s and 'val' in s]\n",
    "    acc_list = [s for s in history.history.keys() if 'accuracy' in s and 'val' not in s]\n",
    "    val_acc_list = [s for s in history.history.keys() if 'accuracy' in s and 'val' in s]\n",
    "    \n",
    "    plt.figure(figsize = (12, 5), dpi = 100)\n",
    "    COLOR = 'gray'\n",
    "    \n",
    "    plt.rc('legend', fontsize = 14)   # legend fontsize\n",
    "    plt.rc('figure', titlesize = 12)  # fontsize of the figure title\n",
    "        \n",
    "    if len(loss_list) == 0:\n",
    "        print('Loss is missing in history')\n",
    "        return \n",
    "    \n",
    "    ## As loss always exists\n",
    "    epochs = range(1, len(history.history[loss_list[0]]) + 1)\n",
    "    \n",
    "    ## Loss\n",
    "    plt.subplot(1, 2, 1)\n",
    "    plt.subplots_adjust(wspace = 2, hspace = 2)\n",
    "    plt.rcParams['text.color'] = 'black'\n",
    "    plt.rcParams['axes.titlecolor'] = 'black'\n",
    "    plt.rcParams['axes.labelcolor'] = COLOR\n",
    "    plt.rcParams['xtick.color'] = COLOR\n",
    "    plt.rcParams['ytick.color'] = COLOR\n",
    "    for l in loss_list:\n",
    "        plt.plot(epochs, history.history[l], 'b-o',\n",
    "                 label = 'Train (' + str(str(format(history.history[l][-1],'.4f'))+')'))\n",
    "    for l in val_loss_list:\n",
    "        plt.plot(epochs, history.history[l], 'g',\n",
    "                 label = 'Valid (' + str(str(format(history.history[l][-1],'.4f'))+')'))\n",
    "    \n",
    "    plt.title('Loss')\n",
    "    plt.xlabel('Epochs')\n",
    "    plt.legend(facecolor = 'gray', loc = 'best')\n",
    "    plt.grid(True)\n",
    "    plt.tight_layout()\n",
    "    \n",
    "    ## Accuracy\n",
    "    plt.subplot(1, 2, 2)\n",
    "    plt.subplots_adjust(wspace = 2, hspace = 2)\n",
    "    plt.rcParams['text.color'] = 'black'\n",
    "    plt.rcParams['axes.titlecolor'] = 'black'\n",
    "    plt.rcParams['axes.labelcolor'] = COLOR\n",
    "    plt.rcParams['xtick.color'] = COLOR\n",
    "    plt.rcParams['ytick.color'] = COLOR\n",
    "    for l in acc_list:\n",
    "        plt.plot(epochs, history.history[l], 'b-o',\n",
    "                 label = 'Train (' + str(format(history.history[l][-1],'.4f'))+')')\n",
    "    for l in val_acc_list:    \n",
    "        plt.plot(epochs, history.history[l], 'g',\n",
    "                 label = 'Valid (' + str(format(history.history[l][-1],'.4f'))+')')\n",
    "\n",
    "    plt.title('Accuracy')\n",
    "    plt.xlabel('Epochs')\n",
    "    plt.legend(facecolor = 'gray', loc = 'best')\n",
    "    plt.grid(True)\n",
    "    plt.tight_layout()\n",
    "    plt.show()\n",
    "\n",
    "class B_Generator(object):\n",
    "    def __init__(self, BZ, XX, YY, ohe):\n",
    "        self.BZ = BZ\n",
    "        self.n_b = int(math.floor(np.shape(XX)[0] / BZ))\n",
    "        self.b_index = [a * BZ for a in range(0, self.n_b)]\n",
    "        self.XX = XX\n",
    "        self.YY = YY\n",
    "        self.ohe = ohe\n",
    "        \n",
    "    def __iter__(self):\n",
    "        for var_0 in itertools.cycle(self.b_index):\n",
    "            YY = self.YY[var_0 : (var_0 + self.BZ)]\n",
    "            ohe_Y = self.ohe.transform(YY.reshape(len(YY), 1))\n",
    "            yield (self.XX[var_0 : (var_0 + self.BZ),], ohe_Y)"
   ]
  },
  {
   "cell_type": "markdown",
   "metadata": {
    "id": "SbmrZguMTThd"
   },
   "source": [
    "## Reading the Dataset\n"
   ]
  },
  {
   "cell_type": "code",
   "execution_count": 6,
   "metadata": {
    "id": "-tW2bcLSr86z",
    "tags": []
   },
   "outputs": [
    {
     "name": "stdout",
     "output_type": "stream",
     "text": [
      "File TestbedSunJun13Flows.xml has been read\n"
     ]
    }
   ],
   "source": [
    "number = 2\n",
    "\n",
    "if zipfile.is_zipfile('DataSets.zip'):\n",
    "  file_1 = zipfile.ZipFile('DataSets.zip', 'r')\n",
    "else:\n",
    "  print('Type file isn`t ZIP')\n",
    "\n",
    "name_dataset = file_1.namelist()[number]\n",
    "file_1.extract(name_dataset)\n",
    "print(\"File\", name_dataset, \"has been read\")"
   ]
  },
  {
   "cell_type": "markdown",
   "metadata": {
    "id": "ViO_fR3jW7U4"
   },
   "source": [
    "## Dataset manipulations\n"
   ]
  },
  {
   "cell_type": "code",
   "execution_count": 7,
   "metadata": {
    "id": "rNff39M3D6bj",
    "tags": []
   },
   "outputs": [
    {
     "name": "stdout",
     "output_type": "stream",
     "text": [
      "Preparation process has been finished\n"
     ]
    }
   ],
   "source": [
    "tree_set = ElTree.parse(name_dataset)\n",
    "root_tree_set = tree_set.getroot()\n",
    "\n",
    "result = []\n",
    "var_1 = root_tree_set.items()[0][1][:-4]\n",
    "\n",
    "for item in root_tree_set.findall(var_1):\n",
    "    result.append({node.tag: node.text for node in item.getiterator()})\n",
    "\n",
    "dSET = pd.DataFrame(result)\n",
    "dSET = dSET.drop(dSET.columns[[0]], axis = 1)\n",
    "dSET = dSET.drop_duplicates()\n",
    "\n",
    "dSET = dSET.sort_values('startDateTime')\n",
    "dSET['IPs_sequence'] = dSET['source'] + '_' + dSET['destination'] + '_' + dSET['startDateTime'].str[:13]\n",
    "\n",
    "dSET['res_port'] = np.where(dSET.destinationPort <= dSET.sourcePort,\n",
    "                            dSET['destinationPort'],\n",
    "                            dSET['sourcePort'])\n",
    "\n",
    "# rename some of the columns for more convenience\n",
    "dSET = dSET.rename(columns = {'totalSourceBytes': 'totSB',\n",
    "                        'totalDestinationBytes': 'totDB',\n",
    "                        'totalDestinationPackets': 'totDP',\n",
    "                        'totalSourcePackets': 'totSP',\n",
    "                        'sourcePayloadAsBase64': 'sourB64',\n",
    "                        'sourcePayloadAsUTF': 'sourUTF',\n",
    "                        'destinationPayloadAsBase64': 'destB64',\n",
    "                        'destinationPayloadAsUTF': 'destUTF',\n",
    "                        'direction': 'direct',\n",
    "                        'sourceTCPFlagsDescription': 'sourTCPFd',\n",
    "                        'destinationTCPFlagsDescription': 'destTCPFd',\n",
    "                        'protocolName': 'pName',\n",
    "                        'sourcePort': 'sPort',\n",
    "                        'destination': 'dest',\n",
    "                        'destinationPort': 'dPort'})\n",
    "print(\"Preparation process has been finished\")"
   ]
  },
  {
   "cell_type": "markdown",
   "metadata": {
    "id": "Z0ILuy9O0lOj"
   },
   "source": [
    "### Let's look at the dataset size & feature names\n"
   ]
  },
  {
   "cell_type": "code",
   "execution_count": 8,
   "metadata": {
    "id": "do_MtuN_0mmQ",
    "tags": []
   },
   "outputs": [
    {
     "data": {
      "text/plain": [
       "((137160, 22),\n",
       " Index(['appName', 'totSB', 'totDB', 'totDP', 'totSP', 'sourB64', 'sourUTF',\n",
       "        'destB64', 'destUTF', 'direct', 'sourTCPFd', 'destTCPFd', 'source',\n",
       "        'pName', 'sPort', 'dest', 'dPort', 'startDateTime', 'stopDateTime',\n",
       "        'Tag', 'IPs_sequence', 'res_port'],\n",
       "       dtype='object'))"
      ]
     },
     "execution_count": 8,
     "metadata": {},
     "output_type": "execute_result"
    }
   ],
   "source": [
    "dSET.shape, dSET.columns"
   ]
  },
  {
   "cell_type": "markdown",
   "metadata": {
    "id": "5DBf0FS70v_t"
   },
   "source": [
    "The dataset contains a lot of objects (rows) depending on a selected file, for each of which `20` features are set (columns), including 1 target feature (`Tag`) and two additional columns (`IPs_sequence` and `res_port`).\n"
   ]
  },
  {
   "cell_type": "markdown",
   "metadata": {
    "id": "0SDpd1dxKeq4"
   },
   "source": [
    "Input features (column names):\n",
    "\n",
    "1.  `appName` - name of the application that participated in this data collection.\n",
    "2.  `totalSourceBytes`, `totSB` - the amount of data received in bytes from Source.\n",
    "3.  `totalDestinationBytes`, `totDB` - the amount of data sent in bytes to Destination.\n",
    "4.  `totalDestinationPackets`, `totDP` - the amount of data sent in packets to Destination.\n",
    "5.  `totalSourcePackets`, `totSP` - the amount of data received in packets from Source.\n",
    "6.  `sourcePayloadAsBase64`, `sourB64` - source payload in Base64 code.\n",
    "7.  `sourcePayloadAsUTF`, `sourUTF` - source payload in another UTF-8 (Unicode Transformation Format) 8-bit code.\n",
    "8.  `destinationPayloadAsBase64`, `destB64` - destination payload in Base64 code.\n",
    "9.  `destinationPayloadAsUTF`, `destUTF` – destination payload in another UTF-8 (Unicode Transformation Format) 8-bit code.\n",
    "10. `direction`, `direct` - data transferring direction, for instance, local-to-local (`L2L`), local-to-remote (`L2R`), remote-to-local (`R2L`), remote-to-remote (`R2R`).\n",
    "11. `sourceTCPFlagsDescription`, `sourTCPFd` - sources description of the TCP flags, for instance, `ACKnowledgement`, `A`: flag is used to acknowledge the successful receipt of packets; `Push`, `P` flag, like the `Urgent flag`: exists to ensure that the data is given the priority (that it deserves) and is processed at the sending or receiving end; `Final`, `F` flag: available is the FIN flag, standing for the word FINished, etc.\n",
    "12. `destinationTCPFlagsDescription`, `destTCPFd` - destination description of the TCP flags, description see above.\n",
    "13. `source` – source IP-address.\n",
    "14. `protocolName`, `pName` – name of used protocol.\n",
    "15. `sourcePort`, `sPort` – number of source port.\n",
    "16. `desctination`, `dest` – destination IP-address.\n",
    "17. `desctinationPort`, `dPort` – number of destination port.\n",
    "18. `startDateTime`, `stopDateTime` – date & time of start and stop of data collection process.\n",
    "19. `Tag` – a feature (desired target) value that will be used for prediction.\n"
   ]
  },
  {
   "cell_type": "markdown",
   "metadata": {
    "id": "tNsfcC39IHvj"
   },
   "source": [
    "Let's read the data and look at the first 5 rows using the `head` method. The number of the output rows from the dataset is determined by the `head` method parameter.\n",
    "\n",
    "Replace `##YOUR CODE GOES HERE##` with your Python code.\n"
   ]
  },
  {
   "cell_type": "code",
   "execution_count": 9,
   "metadata": {
    "id": "wetTGQ5XfCLD",
    "tags": []
   },
   "outputs": [
    {
     "data": {
      "text/html": [
       "<div>\n",
       "<style scoped>\n",
       "    .dataframe tbody tr th:only-of-type {\n",
       "        vertical-align: middle;\n",
       "    }\n",
       "\n",
       "    .dataframe tbody tr th {\n",
       "        vertical-align: top;\n",
       "    }\n",
       "\n",
       "    .dataframe thead th {\n",
       "        text-align: right;\n",
       "    }\n",
       "</style>\n",
       "<table border=\"1\" class=\"dataframe\">\n",
       "  <thead>\n",
       "    <tr style=\"text-align: right;\">\n",
       "      <th></th>\n",
       "      <th>appName</th>\n",
       "      <th>totSB</th>\n",
       "      <th>totDB</th>\n",
       "      <th>totDP</th>\n",
       "      <th>totSP</th>\n",
       "      <th>sourB64</th>\n",
       "      <th>sourUTF</th>\n",
       "      <th>destB64</th>\n",
       "      <th>destUTF</th>\n",
       "      <th>direct</th>\n",
       "      <th>...</th>\n",
       "      <th>source</th>\n",
       "      <th>pName</th>\n",
       "      <th>sPort</th>\n",
       "      <th>dest</th>\n",
       "      <th>dPort</th>\n",
       "      <th>startDateTime</th>\n",
       "      <th>stopDateTime</th>\n",
       "      <th>Tag</th>\n",
       "      <th>IPs_sequence</th>\n",
       "      <th>res_port</th>\n",
       "    </tr>\n",
       "  </thead>\n",
       "  <tbody>\n",
       "    <tr>\n",
       "      <th>0</th>\n",
       "      <td>Unknown_UDP</td>\n",
       "      <td>2633658</td>\n",
       "      <td>0</td>\n",
       "      <td>0</td>\n",
       "      <td>28971</td>\n",
       "      <td>None</td>\n",
       "      <td>None</td>\n",
       "      <td>None</td>\n",
       "      <td>None</td>\n",
       "      <td>L2R</td>\n",
       "      <td>...</td>\n",
       "      <td>192.168.5.122</td>\n",
       "      <td>udp_ip</td>\n",
       "      <td>5353</td>\n",
       "      <td>224.0.0.251</td>\n",
       "      <td>5353</td>\n",
       "      <td>2010-06-12T23:57:24</td>\n",
       "      <td>2010-06-13T09:24:52</td>\n",
       "      <td>Normal</td>\n",
       "      <td>192.168.5.122_224.0.0.251_2010-06-12T23</td>\n",
       "      <td>5353</td>\n",
       "    </tr>\n",
       "    <tr>\n",
       "      <th>2</th>\n",
       "      <td>HTTPWeb</td>\n",
       "      <td>64</td>\n",
       "      <td>128</td>\n",
       "      <td>2</td>\n",
       "      <td>1</td>\n",
       "      <td>None</td>\n",
       "      <td>None</td>\n",
       "      <td>None</td>\n",
       "      <td>None</td>\n",
       "      <td>L2L</td>\n",
       "      <td>...</td>\n",
       "      <td>192.168.2.113</td>\n",
       "      <td>tcp_ip</td>\n",
       "      <td>4191</td>\n",
       "      <td>192.168.5.122</td>\n",
       "      <td>80</td>\n",
       "      <td>2010-06-12T23:57:38</td>\n",
       "      <td>2010-06-12T23:59:20</td>\n",
       "      <td>Normal</td>\n",
       "      <td>192.168.2.113_192.168.5.122_2010-06-12T23</td>\n",
       "      <td>4191</td>\n",
       "    </tr>\n",
       "    <tr>\n",
       "      <th>4</th>\n",
       "      <td>HTTPWeb</td>\n",
       "      <td>128</td>\n",
       "      <td>64</td>\n",
       "      <td>1</td>\n",
       "      <td>2</td>\n",
       "      <td>None</td>\n",
       "      <td>None</td>\n",
       "      <td>None</td>\n",
       "      <td>None</td>\n",
       "      <td>L2R</td>\n",
       "      <td>...</td>\n",
       "      <td>192.168.2.113</td>\n",
       "      <td>tcp_ip</td>\n",
       "      <td>4192</td>\n",
       "      <td>207.241.148.80</td>\n",
       "      <td>80</td>\n",
       "      <td>2010-06-12T23:57:40</td>\n",
       "      <td>2010-06-12T23:59:20</td>\n",
       "      <td>Normal</td>\n",
       "      <td>192.168.2.113_207.241.148.80_2010-06-12T23</td>\n",
       "      <td>4192</td>\n",
       "    </tr>\n",
       "    <tr>\n",
       "      <th>6</th>\n",
       "      <td>HTTPImageTransfer</td>\n",
       "      <td>128</td>\n",
       "      <td>128</td>\n",
       "      <td>2</td>\n",
       "      <td>2</td>\n",
       "      <td>None</td>\n",
       "      <td>None</td>\n",
       "      <td>None</td>\n",
       "      <td>None</td>\n",
       "      <td>L2R</td>\n",
       "      <td>...</td>\n",
       "      <td>192.168.2.110</td>\n",
       "      <td>tcp_ip</td>\n",
       "      <td>1864</td>\n",
       "      <td>216.49.88.12</td>\n",
       "      <td>80</td>\n",
       "      <td>2010-06-12T23:57:42</td>\n",
       "      <td>2010-06-12T23:59:22</td>\n",
       "      <td>Normal</td>\n",
       "      <td>192.168.2.110_216.49.88.12_2010-06-12T23</td>\n",
       "      <td>1864</td>\n",
       "    </tr>\n",
       "    <tr>\n",
       "      <th>8</th>\n",
       "      <td>SecureWeb</td>\n",
       "      <td>64</td>\n",
       "      <td>0</td>\n",
       "      <td>0</td>\n",
       "      <td>1</td>\n",
       "      <td>None</td>\n",
       "      <td>None</td>\n",
       "      <td>None</td>\n",
       "      <td>None</td>\n",
       "      <td>L2R</td>\n",
       "      <td>...</td>\n",
       "      <td>192.168.2.113</td>\n",
       "      <td>tcp_ip</td>\n",
       "      <td>4186</td>\n",
       "      <td>63.245.209.72</td>\n",
       "      <td>443</td>\n",
       "      <td>2010-06-12T23:58:11</td>\n",
       "      <td>2010-06-12T23:59:07</td>\n",
       "      <td>Normal</td>\n",
       "      <td>192.168.2.113_63.245.209.72_2010-06-12T23</td>\n",
       "      <td>4186</td>\n",
       "    </tr>\n",
       "  </tbody>\n",
       "</table>\n",
       "<p>5 rows × 22 columns</p>\n",
       "</div>"
      ],
      "text/plain": [
       "             appName    totSB totDB totDP  totSP sourB64 sourUTF destB64  \\\n",
       "0        Unknown_UDP  2633658     0     0  28971    None    None    None   \n",
       "2            HTTPWeb       64   128     2      1    None    None    None   \n",
       "4            HTTPWeb      128    64     1      2    None    None    None   \n",
       "6  HTTPImageTransfer      128   128     2      2    None    None    None   \n",
       "8          SecureWeb       64     0     0      1    None    None    None   \n",
       "\n",
       "  destUTF direct  ...         source   pName sPort            dest dPort  \\\n",
       "0    None    L2R  ...  192.168.5.122  udp_ip  5353     224.0.0.251  5353   \n",
       "2    None    L2L  ...  192.168.2.113  tcp_ip  4191   192.168.5.122    80   \n",
       "4    None    L2R  ...  192.168.2.113  tcp_ip  4192  207.241.148.80    80   \n",
       "6    None    L2R  ...  192.168.2.110  tcp_ip  1864    216.49.88.12    80   \n",
       "8    None    L2R  ...  192.168.2.113  tcp_ip  4186   63.245.209.72   443   \n",
       "\n",
       "         startDateTime         stopDateTime     Tag  \\\n",
       "0  2010-06-12T23:57:24  2010-06-13T09:24:52  Normal   \n",
       "2  2010-06-12T23:57:38  2010-06-12T23:59:20  Normal   \n",
       "4  2010-06-12T23:57:40  2010-06-12T23:59:20  Normal   \n",
       "6  2010-06-12T23:57:42  2010-06-12T23:59:22  Normal   \n",
       "8  2010-06-12T23:58:11  2010-06-12T23:59:07  Normal   \n",
       "\n",
       "                                 IPs_sequence res_port  \n",
       "0     192.168.5.122_224.0.0.251_2010-06-12T23     5353  \n",
       "2   192.168.2.113_192.168.5.122_2010-06-12T23     4191  \n",
       "4  192.168.2.113_207.241.148.80_2010-06-12T23     4192  \n",
       "6    192.168.2.110_216.49.88.12_2010-06-12T23     1864  \n",
       "8   192.168.2.113_63.245.209.72_2010-06-12T23     4186  \n",
       "\n",
       "[5 rows x 22 columns]"
      ]
     },
     "execution_count": 9,
     "metadata": {},
     "output_type": "execute_result"
    }
   ],
   "source": [
    "\n",
    "dSET.head(5)"
   ]
  },
  {
   "cell_type": "markdown",
   "metadata": {
    "id": "7hGavnMC7wwG"
   },
   "source": [
    "## Main pipeline\n"
   ]
  },
  {
   "cell_type": "code",
   "execution_count": 10,
   "metadata": {
    "id": "rKce95T6xFVi",
    "tags": []
   },
   "outputs": [
    {
     "name": "stdout",
     "output_type": "stream",
     "text": [
      "Stage I. Keys building\n",
      "\n",
      "Unique keys:\n",
      "Tag         11243\n",
      "res_port    11243\n",
      "dtype: int64\n"
     ]
    }
   ],
   "source": [
    "## Build the sets (keys and sequences) in hour slices\n",
    "print(\"Stage I. Keys building\\n\")\n",
    "key = dSET.groupby('IPs_sequence')[['Tag', 'res_port']].agg({\"Tag\": lambda var_2: \"%s\" % ','.join([var_3 for var_3 in var_2]),\n",
    "          \"res_port\" :lambda var_2: \"%s\" % ','.join([str(var_3) if int(var_3) < 10000 else \"10000\" for var_3 in var_2])})\n",
    "\n",
    "print(\"Unique keys:\\n\" + str(key.count()))\n",
    "attacks = [var_4.split(\",\") for var_4 in key.Tag.tolist()]\n",
    "sequences = [var_4.split(\",\") for var_4 in key.res_port.tolist()]"
   ]
  },
  {
   "cell_type": "code",
   "execution_count": 11,
   "metadata": {
    "id": "8coEIzwnw7My",
    "tags": []
   },
   "outputs": [
    {
     "name": "stdout",
     "output_type": "stream",
     "text": [
      "Stage II. Label encoding\n",
      "\n",
      "Number of unique tokens : 4168\n",
      "Number of sequences : 11243\n"
     ]
    }
   ],
   "source": [
    "print(\"Stage II. Label encoding\\n\")\n",
    "U_tokens = list(set([var_5 for var_6 in sequences for var_5 in var_6]))\n",
    "print(\"Number of unique tokens :\", len(U_tokens))\n",
    "LE = LabelEncoder().fit(U_tokens)\n",
    "sequences = [LE.transform(var_7).tolist() for var_7 in sequences]\n",
    "sequences = [[var_6 + 1 for var_6 in var_5] for var_5 in sequences]\n",
    "print(\"Number of sequences :\", len(sequences))\n",
    "sequence_attack = zip(attacks, sequences)"
   ]
  },
  {
   "cell_type": "code",
   "execution_count": 12,
   "metadata": {
    "id": "9nf6e4GbwbTF",
    "tags": []
   },
   "outputs": [
    {
     "name": "stdout",
     "output_type": "stream",
     "text": [
      "Stage III. Sequences generating for the future model\n",
      "\n",
      "Length of the primary sequence : 10\n",
      "Length of X & Y sets : 137160\n"
     ]
    }
   ],
   "source": [
    "print(\"Stage III. Sequences generating for the future model\\n\")\n",
    "var_8 = np.float32(0)\n",
    "len_sequence = 10\n",
    "print(\"Length of the primary sequence :\", len_sequence)\n",
    "seq_IDX, seq_X, seq_Y, seq_ATT = [], [], [], []\n",
    "for var_10, (var_11, var_12) in enumerate(sequence_attack):\n",
    "    sequence_1 = [np.float32(0)] * (len_sequence) + var_12\n",
    "    sequence_2 = [np.float32(0)] * (len_sequence) + var_11\n",
    "    for var_9 in range(len_sequence, len(sequence_1)):\n",
    "        sequence_3 = sequence_1[(var_9 - len_sequence):(var_9)]\n",
    "        var_14 = []\n",
    "        for var_13 in sequence_3:\n",
    "            try:\n",
    "                var_14.append(var_13)\n",
    "            except:\n",
    "                var_14.append(var_8)\n",
    "        seq_X.append(var_14)\n",
    "        seq_Y.append(sequence_1[var_9])\n",
    "        seq_IDX.append(var_10)\n",
    "        seq_ATT.append(sequence_2[var_9])\n",
    "print(\"Length of X & Y sets :\", len(seq_X))"
   ]
  },
  {
   "cell_type": "code",
   "execution_count": 13,
   "metadata": {
    "id": "rv7gR5653034",
    "tags": []
   },
   "outputs": [
    {
     "name": "stdout",
     "output_type": "stream",
     "text": [
      "Stage IV. One-hot-encoder initializing\n",
      "\n",
      "Dimensionality size of set X : (137160, 10)\n"
     ]
    }
   ],
   "source": [
    "print(\"Stage IV. One-hot-encoder initializing\\n\")\n",
    "OHE = OneHotEncoder(sparse = False, categories = 'auto').fit(np.unique(seq_Y).reshape(-1, 1))\n",
    "\n",
    "X = np.array(seq_X)\n",
    "print(\"Dimensionality size of set X :\", X.shape)"
   ]
  },
  {
   "cell_type": "code",
   "execution_count": 14,
   "metadata": {
    "id": "awr9mi4Aztqc",
    "tags": []
   },
   "outputs": [
    {
     "name": "stdout",
     "output_type": "stream",
     "text": [
      "Stage V. Model building\n",
      "\n"
     ]
    },
    {
     "name": "stderr",
     "output_type": "stream",
     "text": [
      "2024-03-10 13:32:35.218743: I tensorflow/compiler/jit/xla_cpu_device.cc:41] Not creating XLA devices, tf_xla_enable_xla_devices not set\n",
      "2024-03-10 13:32:35.219271: W tensorflow/stream_executor/platform/default/dso_loader.cc:60] Could not load dynamic library 'libcuda.so.1'; dlerror: libcuda.so.1: cannot open shared object file: No such file or directory\n",
      "2024-03-10 13:32:35.219296: W tensorflow/stream_executor/cuda/cuda_driver.cc:326] failed call to cuInit: UNKNOWN ERROR (303)\n",
      "2024-03-10 13:32:35.219326: I tensorflow/stream_executor/cuda/cuda_diagnostics.cc:156] kernel driver does not appear to be running on this host (jupyterlab-itsrealkarth): /proc/driver/nvidia/version does not exist\n",
      "2024-03-10 13:32:35.219666: I tensorflow/core/platform/cpu_feature_guard.cc:142] This TensorFlow binary is optimized with oneAPI Deep Neural Network Library (oneDNN) to use the following CPU instructions in performance-critical operations:  AVX512F\n",
      "To enable them in other operations, rebuild TensorFlow with the appropriate compiler flags.\n",
      "2024-03-10 13:32:35.225341: I tensorflow/compiler/jit/xla_gpu_device.cc:99] Not creating XLA devices, tf_xla_enable_xla_devices not set\n"
     ]
    },
    {
     "name": "stdout",
     "output_type": "stream",
     "text": [
      "Model: \"sequential\"\n",
      "_________________________________________________________________\n",
      "Layer (type)                 Output Shape              Param #   \n",
      "=================================================================\n",
      "embedding (Embedding)        (None, None, 100)         416900    \n",
      "_________________________________________________________________\n",
      "bidirectional (Bidirectional (None, None, 100)         60400     \n",
      "_________________________________________________________________\n",
      "dropout (Dropout)            (None, None, 100)         0         \n",
      "_________________________________________________________________\n",
      "bidirectional_1 (Bidirection (None, 100)               60400     \n",
      "_________________________________________________________________\n",
      "dropout_1 (Dropout)          (None, 100)               0         \n",
      "_________________________________________________________________\n",
      "dense (Dense)                (None, 50)                5050      \n",
      "_________________________________________________________________\n",
      "dropout_2 (Dropout)          (None, 50)                0         \n",
      "_________________________________________________________________\n",
      "dense_1 (Dense)              (None, 4168)              212568    \n",
      "=================================================================\n",
      "Total params: 755,318\n",
      "Trainable params: 755,318\n",
      "Non-trainable params: 0\n",
      "_________________________________________________________________\n"
     ]
    }
   ],
   "source": [
    "print(\"Stage V. Model building\\n\")\n",
    "drop_level = 0.35 # You can choose a drop level yourself\n",
    "N_neurons = 50   # You can choose the number of neurons yourself\n",
    "\n",
    "model = Sequential()\n",
    "model.add(layers.Embedding(output_dim = 100,\n",
    "                    input_dim = len(U_tokens) + 1,\n",
    "                    mask_zero = True))\n",
    "\n",
    "model.add(layers.Bidirectional(LSTM(N_neurons, return_sequences = True)))\n",
    "model.add(layers.Dropout(drop_level))\n",
    "\n",
    "# model.add(layers.Bidirectional(LSTM(N_neurons, activation = \"relu\", return_sequences = False))\n",
    "# model.add(layers.Dropout(drop_level))\n",
    "\n",
    "model.add(layers.Bidirectional(LSTM(N_neurons, activation = \"relu\", return_sequences = False)))\n",
    "model.add(layers.Dropout(drop_level))\n",
    "\n",
    "model.add(layers.Dense(N_neurons, activation = \"linear\"))\n",
    "model.add(layers.Dropout(drop_level))\n",
    "\n",
    "model.add(layers.Dense(len(U_tokens), activation = \"softmax\"))\n",
    "\n",
    "##YOUR CODE GOES HERE##.summary()\n",
    "model.summary()"
   ]
  },
  {
   "cell_type": "code",
   "execution_count": 16,
   "metadata": {
    "id": "PFp4lthL5Sqq",
    "tags": []
   },
   "outputs": [
    {
     "name": "stdout",
     "output_type": "stream",
     "text": [
      "Stage VI. Compile and fit the model\n",
      "\n",
      "Epoch 1/100\n",
      "267/267 [==============================] - 142s 499ms/step - loss: 7.2763 - accuracy: 0.1979\n",
      "Epoch 2/100\n",
      "267/267 [==============================] - 131s 492ms/step - loss: 6.3884 - accuracy: 0.2246\n",
      "Epoch 3/100\n",
      "267/267 [==============================] - 131s 491ms/step - loss: 6.1470 - accuracy: 0.2252\n",
      "Epoch 4/100\n",
      "267/267 [==============================] - 130s 486ms/step - loss: 5.9962 - accuracy: 0.2281\n",
      "Epoch 5/100\n",
      "267/267 [==============================] - 131s 492ms/step - loss: 5.7910 - accuracy: 0.2386\n",
      "Epoch 6/100\n",
      "267/267 [==============================] - 131s 490ms/step - loss: 5.6295 - accuracy: 0.2441\n",
      "Epoch 7/100\n",
      "267/267 [==============================] - 130s 488ms/step - loss: 5.4821 - accuracy: 0.2483\n",
      "Epoch 8/100\n",
      "267/267 [==============================] - 130s 488ms/step - loss: 5.3188 - accuracy: 0.2538\n",
      "Epoch 9/100\n",
      "267/267 [==============================] - 129s 485ms/step - loss: 5.1359 - accuracy: 0.2604\n",
      "Epoch 10/100\n",
      "267/267 [==============================] - 129s 485ms/step - loss: 4.9626 - accuracy: 0.2662\n",
      "Epoch 11/100\n",
      "267/267 [==============================] - 128s 481ms/step - loss: 4.7955 - accuracy: 0.2702\n",
      "Epoch 12/100\n",
      "267/267 [==============================] - 129s 484ms/step - loss: 4.6419 - accuracy: 0.2753\n",
      "Epoch 13/100\n",
      "267/267 [==============================] - 131s 491ms/step - loss: 4.5007 - accuracy: 0.2804\n",
      "Epoch 14/100\n",
      "267/267 [==============================] - 130s 485ms/step - loss: 4.3876 - accuracy: 0.2853\n",
      "Epoch 15/100\n",
      "267/267 [==============================] - 129s 484ms/step - loss: 4.2770 - accuracy: 0.2888\n",
      "Epoch 16/100\n",
      "267/267 [==============================] - 131s 492ms/step - loss: 4.1830 - accuracy: 0.2940\n",
      "Epoch 17/100\n",
      "267/267 [==============================] - 133s 497ms/step - loss: 4.1022 - accuracy: 0.2970\n",
      "Epoch 18/100\n",
      "267/267 [==============================] - 133s 497ms/step - loss: 4.0211 - accuracy: 0.3013\n",
      "Epoch 19/100\n",
      "267/267 [==============================] - 135s 505ms/step - loss: 3.9554 - accuracy: 0.3034\n",
      "Epoch 20/100\n",
      "267/267 [==============================] - 134s 501ms/step - loss: 3.9055 - accuracy: 0.3053\n",
      "Epoch 21/100\n",
      "267/267 [==============================] - 134s 501ms/step - loss: 3.8474 - accuracy: 0.3105\n",
      "Epoch 22/100\n",
      "267/267 [==============================] - 133s 498ms/step - loss: 3.7947 - accuracy: 0.3126\n",
      "Epoch 23/100\n",
      "267/267 [==============================] - 135s 504ms/step - loss: 3.7461 - accuracy: 0.3156\n",
      "Epoch 24/100\n",
      "267/267 [==============================] - 133s 498ms/step - loss: 3.7117 - accuracy: 0.3170\n",
      "Epoch 25/100\n",
      "267/267 [==============================] - 133s 500ms/step - loss: 3.6654 - accuracy: 0.3214\n",
      "Epoch 26/100\n",
      "267/267 [==============================] - 133s 500ms/step - loss: 3.6343 - accuracy: 0.3254\n",
      "Epoch 27/100\n",
      "267/267 [==============================] - 134s 502ms/step - loss: 3.5960 - accuracy: 0.3275\n",
      "Epoch 28/100\n",
      "267/267 [==============================] - 134s 502ms/step - loss: 3.5643 - accuracy: 0.3313\n",
      "Epoch 29/100\n",
      "267/267 [==============================] - 131s 491ms/step - loss: 3.5357 - accuracy: 0.3333\n",
      "Epoch 30/100\n",
      "267/267 [==============================] - 133s 498ms/step - loss: 3.5163 - accuracy: 0.3368\n",
      "Epoch 31/100\n",
      "267/267 [==============================] - 133s 497ms/step - loss: 3.4881 - accuracy: 0.3388\n",
      "Epoch 32/100\n",
      "267/267 [==============================] - 134s 503ms/step - loss: 3.4691 - accuracy: 0.3398\n",
      "Epoch 33/100\n",
      "267/267 [==============================] - 133s 498ms/step - loss: 3.4497 - accuracy: 0.3419\n",
      "Epoch 34/100\n",
      "267/267 [==============================] - 133s 500ms/step - loss: 3.4321 - accuracy: 0.3413\n",
      "Epoch 35/100\n",
      "267/267 [==============================] - 134s 501ms/step - loss: 3.4103 - accuracy: 0.3448\n",
      "Epoch 36/100\n",
      "267/267 [==============================] - 133s 499ms/step - loss: 3.3867 - accuracy: 0.3481\n",
      "Epoch 37/100\n",
      "267/267 [==============================] - 133s 496ms/step - loss: 3.3705 - accuracy: 0.3473\n",
      "Epoch 38/100\n",
      "267/267 [==============================] - 131s 492ms/step - loss: 3.3563 - accuracy: 0.3501\n",
      "Epoch 39/100\n",
      "267/267 [==============================] - 134s 501ms/step - loss: 3.3456 - accuracy: 0.3522\n",
      "Epoch 40/100\n",
      "267/267 [==============================] - 132s 496ms/step - loss: 3.3276 - accuracy: 0.3538\n",
      "Epoch 41/100\n",
      "267/267 [==============================] - 133s 499ms/step - loss: 3.3108 - accuracy: 0.3541\n",
      "Epoch 42/100\n",
      "267/267 [==============================] - 133s 498ms/step - loss: 3.2970 - accuracy: 0.3552\n",
      "Epoch 43/100\n",
      "267/267 [==============================] - 133s 500ms/step - loss: 3.2845 - accuracy: 0.3553\n",
      "Epoch 44/100\n",
      "267/267 [==============================] - 134s 502ms/step - loss: 3.2712 - accuracy: 0.3586\n",
      "Epoch 45/100\n",
      "267/267 [==============================] - 133s 499ms/step - loss: 3.2564 - accuracy: 0.3598\n",
      "Epoch 46/100\n",
      "267/267 [==============================] - 134s 500ms/step - loss: 3.2500 - accuracy: 0.3583\n",
      "Epoch 47/100\n",
      "267/267 [==============================] - 134s 501ms/step - loss: 3.2357 - accuracy: 0.3619\n",
      "Epoch 48/100\n",
      "267/267 [==============================] - 133s 498ms/step - loss: 3.1089 - accuracy: 0.3738\n",
      "Epoch 59/100\n",
      "267/267 [==============================] - 133s 498ms/step - loss: 3.1104 - accuracy: 0.3758\n",
      "Epoch 60/100\n",
      "267/267 [==============================] - 134s 502ms/step - loss: 3.1003 - accuracy: 0.3746\n",
      "Epoch 61/100\n",
      "267/267 [==============================] - 133s 497ms/step - loss: 3.0975 - accuracy: 0.3763\n",
      "Epoch 62/100\n",
      "267/267 [==============================] - 134s 502ms/step - loss: 3.0875 - accuracy: 0.3765\n",
      "Epoch 63/100\n",
      "267/267 [==============================] - 129s 483ms/step - loss: 3.0818 - accuracy: 0.3774\n",
      "Epoch 64/100\n",
      "267/267 [==============================] - 133s 497ms/step - loss: 3.0736 - accuracy: 0.3777\n",
      "Epoch 65/100\n",
      "267/267 [==============================] - 132s 493ms/step - loss: 3.0553 - accuracy: 0.3794\n",
      "Epoch 66/100\n",
      "267/267 [==============================] - 129s 483ms/step - loss: 3.0503 - accuracy: 0.3794\n",
      "Epoch 67/100\n",
      "267/267 [==============================] - 131s 489ms/step - loss: 3.0472 - accuracy: 0.3822\n",
      "Epoch 68/100\n",
      "267/267 [==============================] - 129s 483ms/step - loss: 3.0466 - accuracy: 0.3804\n",
      "Epoch 69/100\n",
      "267/267 [==============================] - 129s 482ms/step - loss: 3.0287 - accuracy: 0.3853\n",
      "Epoch 70/100\n",
      "267/267 [==============================] - 132s 494ms/step - loss: 3.0182 - accuracy: 0.3846\n",
      "Epoch 71/100\n",
      "267/267 [==============================] - 130s 487ms/step - loss: 3.0066 - accuracy: 0.3854\n",
      "Epoch 72/100\n",
      "267/267 [==============================] - 129s 484ms/step - loss: 3.0095 - accuracy: 0.3858\n",
      "Epoch 73/100\n",
      "267/267 [==============================] - 130s 485ms/step - loss: 3.0004 - accuracy: 0.3867\n",
      "Epoch 74/100\n",
      "267/267 [==============================] - 133s 498ms/step - loss: 2.9987 - accuracy: 0.3857\n",
      "Epoch 75/100\n",
      "267/267 [==============================] - 133s 500ms/step - loss: 2.9815 - accuracy: 0.3892\n",
      "Epoch 76/100\n",
      "267/267 [==============================] - 133s 498ms/step - loss: 2.9860 - accuracy: 0.3880\n",
      "Epoch 77/100\n",
      "267/267 [==============================] - 134s 503ms/step - loss: 2.9738 - accuracy: 0.3892\n",
      "Epoch 78/100\n",
      "267/267 [==============================] - 134s 500ms/step - loss: 2.9680 - accuracy: 0.3914\n",
      "Epoch 79/100\n",
      "267/267 [==============================] - 133s 497ms/step - loss: 2.9697 - accuracy: 0.3902\n",
      "Epoch 80/100\n",
      "267/267 [==============================] - 133s 500ms/step - loss: 2.9574 - accuracy: 0.3923\n",
      "Epoch 81/100\n",
      "267/267 [==============================] - 134s 501ms/step - loss: 2.9463 - accuracy: 0.3928\n",
      "Epoch 82/100\n",
      "267/267 [==============================] - 133s 500ms/step - loss: 2.9382 - accuracy: 0.3937\n",
      "Epoch 83/100\n",
      "267/267 [==============================] - 133s 499ms/step - loss: 2.9420 - accuracy: 0.3933\n",
      "Epoch 84/100\n",
      "267/267 [==============================] - 134s 501ms/step - loss: 2.9261 - accuracy: 0.3955\n",
      "Epoch 85/100\n",
      "267/267 [==============================] - 134s 501ms/step - loss: 2.9227 - accuracy: 0.3986\n",
      "Epoch 86/100\n",
      "267/267 [==============================] - 133s 499ms/step - loss: 2.9177 - accuracy: 0.3963\n",
      "Epoch 87/100\n",
      "267/267 [==============================] - 135s 504ms/step - loss: 2.9148 - accuracy: 0.3972\n",
      "Epoch 88/100\n",
      "267/267 [==============================] - 133s 498ms/step - loss: 2.9093 - accuracy: 0.3980\n",
      "Epoch 89/100\n",
      "267/267 [==============================] - 135s 504ms/step - loss: 2.8987 - accuracy: 0.4021\n",
      "Epoch 90/100\n",
      "267/267 [==============================] - 133s 499ms/step - loss: 2.8953 - accuracy: 0.4007\n",
      "Epoch 91/100\n",
      "267/267 [==============================] - 134s 502ms/step - loss: 2.8838 - accuracy: 0.4000\n",
      "Epoch 92/100\n",
      "267/267 [==============================] - 132s 496ms/step - loss: 2.8775 - accuracy: 0.4024\n",
      "Epoch 93/100\n",
      "267/267 [==============================] - 133s 498ms/step - loss: 2.8789 - accuracy: 0.4009\n",
      "Epoch 94/100\n",
      "267/267 [==============================] - 134s 502ms/step - loss: 2.8712 - accuracy: 0.4034\n",
      "Epoch 95/100\n",
      "267/267 [==============================] - 133s 497ms/step - loss: 2.8622 - accuracy: 0.4041\n",
      "Epoch 96/100\n",
      "267/267 [==============================] - 128s 479ms/step - loss: 2.8565 - accuracy: 0.4043\n",
      "Epoch 97/100\n",
      "267/267 [==============================] - 132s 496ms/step - loss: 2.8545 - accuracy: 0.4044\n",
      "Epoch 98/100\n",
      "267/267 [==============================] - 134s 502ms/step - loss: 2.8525 - accuracy: 0.4057\n",
      "Epoch 99/100\n",
      "267/267 [==============================] - 133s 497ms/step - loss: 2.8439 - accuracy: 0.4078\n",
      "Epoch 100/100\n",
      "267/267 [==============================] - 132s 496ms/step - loss: 2.8360 - accuracy: 0.4082\n"
     ]
    }
   ],
   "source": [
    "print(\"Stage VI. Compile and fit the model\\n\")\n",
    "\n",
    "batch_size = 512  # You can choose a batch size yourself\n",
    "n_epochs = 100     # You can choose the number of epochs yourself\n",
    "\n",
    "optim = tf.keras.optimizers.Nadam()   # You can choose an optimizer yourself\n",
    "loss_f = tf.keras.metrics.categorical_crossentropy\n",
    "\n",
    "T_data = B_Generator(batch_size, np.asarray(X), np.asarray(seq_Y), OHE)\n",
    "\n",
    "model.compile(loss = loss_f,\n",
    "              optimizer = optim,\n",
    "              metrics = ['accuracy'])\n",
    "\n",
    "history = model.fit_generator(T_data.__iter__(),\n",
    "    steps_per_epoch = T_data.n_b,\n",
    "    epochs = n_epochs,\n",
    "    verbose = 1)"
   ]
  },
  {
   "cell_type": "code",
   "execution_count": 18,
   "metadata": {
    "id": "ZnD4msd55_7x",
    "tags": []
   },
   "outputs": [
    {
     "name": "stdout",
     "output_type": "stream",
     "text": [
      "Stage VII. Results visualization\n",
      "\n"
     ]
    },
    {
     "data": {
      "image/png": "[encoded data removed]",
      "text/plain": [
       "<Figure size 1200x500 with 2 Axes>"
      ]
     },
     "metadata": {},
     "output_type": "display_data"
    }
   ],
   "source": [
    "print(\"Stage VII. Results visualization\\n\")\n",
    "plot_history(history)"
   ]
  },
  {
   "cell_type": "code",
   "execution_count": null,
   "metadata": {
    "id": "T3MIvAwFyr1G"
   },
   "outputs": [],
   "source": [
    "print(\"Stage VIII. Model saving & prediction checking\\n\")\n",
    "\n",
    "M_name = \"model\"\n",
    "\n",
    "filepath = M_name + '.h5'\n",
    "tf.keras.models.save_model(model, filepath, include_optimizer = True, save_format = 'h5', overwrite = True)\n",
    "print(\"Size of the saved model :\", os.stat(filepath).st_size, \"bytes\")"
   ]
  },
  {
   "cell_type": "code",
   "execution_count": null,
   "metadata": {
    "id": "sHxL_kecZtS4"
   },
   "outputs": [],
   "source": [
    "model_L = tf.keras.models.load_model(##YOUR CODE GOES HERE##)\n",
    "predicts = model_L.predict(X, batch_size = batch_size)\n",
    "print(\"Dimensionality sizes of model predicts :\", predicts.shape, \"\\n\")\n",
    "print(\"Compare with length of X & Y sets :\\t\", len(seq_X), \"\\nand with number of tokens :\\t\\t\", len(U_tokens))"
   ]
  }
 ],
 "metadata": {
  "colab": {
   "collapsed_sections": [],
   "name": "Advanced_ML_anomaly_detection_L3.ipynb",
   "provenance": [],
   "toc_visible": true
  },
  "kernelspec": {
   "display_name": "Python",
   "language": "python",
   "name": "conda-env-python-py"
  },
  "language_info": {
   "codemirror_mode": {
    "name": "ipython",
    "version": 3
   },
   "file_extension": ".py",
   "mimetype": "text/x-python",
   "name": "python",
   "nbconvert_exporter": "python",
   "pygments_lexer": "ipython3",
   "version": "3.7.12"
  }
 },
 "nbformat": 4,
 "nbformat_minor": 4
}
